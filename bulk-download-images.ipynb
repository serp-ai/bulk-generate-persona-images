{
 "cells": [
  {
   "cell_type": "code",
   "execution_count": null,
   "metadata": {},
   "outputs": [],
   "source": [
    "# !pip install requests\n",
    "# !pip install Pillow\n",
    "# !pip install deepface\n",
    "# !pip install pandas"
   ]
  },
  {
   "cell_type": "code",
   "execution_count": null,
   "metadata": {},
   "outputs": [],
   "source": [
    "import os\n",
    "from deepface import DeepFace\n",
    "import pandas as pd\n",
    "import requests\n",
    "from PIL import Image\n",
    "from io import BytesIO\n",
    "\n",
    "# Read CSV file\n",
    "df = pd.read_csv(\"input.csv\")\n",
    "\n",
    "dir_male = \"images/male/\"\n",
    "dir_female = \"images/female/\"\n",
    "\n",
    "# Create directories if they don't exist\n",
    "os.makedirs(dir_male, exist_ok=True)\n",
    "os.makedirs(dir_female, exist_ok=True)\n",
    "\n",
    "for index, row in df.iterrows():\n",
    "    file_name = row[\"Name\"]\n",
    "    headers = {\n",
    "        \"User-Agent\": \"Mozilla/5.0 (Macintosh; Intel Mac OS X 10_10_1) AppleWebKit/537.36 (KHTML, like Gecko) Chrome/39.0.2171.95 Safari/537.36\"\n",
    "    }\n",
    "    response = requests.get(\n",
    "        \"https://www.thispersondoesnotexist.com\", headers=headers)\n",
    "\n",
    "    if response.status_code == 200 and \"image\" in response.headers[\"Content-Type\"]:\n",
    "        img = Image.open(BytesIO(response.content))\n",
    "\n",
    "        # Crop the image\n",
    "        width, height = img.size\n",
    "        img = img.crop((20, 20, width - 20, height - 20))\n",
    "\n",
    "        # Save image in the appropriate directory\n",
    "        if row[\"Gender\"] == \"Male\":\n",
    "            full_file_name = dir_male + file_name + \".jpg\"\n",
    "        else:\n",
    "            full_file_name = dir_female + file_name + \".jpg\"\n",
    "\n",
    "        img.save(full_file_name)\n",
    "\n",
    "        print(\n",
    "            f\"Image {file_name} is predicted to be {row['Gender']} and saved to {full_file_name}\"\n",
    "        )\n",
    "    else:\n",
    "        print(\n",
    "            f\"Failed to download image {file_name}. Status code: {response.status_code}, Content-Type: {response.headers['Content-Type']}\"\n",
    "        )"
   ]
  }
 ],
 "metadata": {
  "kernelspec": {
   "display_name": ".venv",
   "language": "python",
   "name": "python3"
  },
  "language_info": {
   "codemirror_mode": {
    "name": "ipython",
    "version": 3
   },
   "file_extension": ".py",
   "mimetype": "text/x-python",
   "name": "python",
   "nbconvert_exporter": "python",
   "pygments_lexer": "ipython3",
   "version": "3.11.6"
  }
 },
 "nbformat": 4,
 "nbformat_minor": 2
}
